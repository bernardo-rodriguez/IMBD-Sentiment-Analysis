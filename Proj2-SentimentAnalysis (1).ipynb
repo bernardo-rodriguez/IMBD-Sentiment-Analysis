{
 "cells": [
  {
   "cell_type": "code",
   "execution_count": 1,
   "metadata": {
    "collapsed": true
   },
   "outputs": [],
   "source": [
    "import numpy as np\n",
    "import pandas as pd\n",
    "import os\n",
    "import sklearn\n",
    "from sklearn.linear_model import LogisticRegression\n",
    "from sklearn.feature_selection import RFE\n",
    "from sklearn.svm import LinearSVC\n",
    "from sklearn import linear_model\n",
    "from sklearn import tree\n",
    "from sklearn import model_selection\n",
    "from sklearn import ensemble\n",
    "import matplotlib.pyplot as plt"
   ]
  },
  {
   "cell_type": "markdown",
   "metadata": {},
   "source": [
    "# Reading Data"
   ]
  },
  {
   "cell_type": "code",
   "execution_count": 2,
   "metadata": {
    "collapsed": true
   },
   "outputs": [],
   "source": [
    "def segmentWords(s): \n",
    "    return s.split()\n",
    "\n",
    "def readFile(fileName):\n",
    "    # Function for reading file\n",
    "    # input: filename as string\n",
    "    # output: contents of file as list containing single words\n",
    "    contents = []\n",
    "    f = open(fileName)\n",
    "    for line in f:\n",
    "        contents.append(line)\n",
    "    f.close()\n",
    "    result = segmentWords('\\n'.join(contents))\n",
    "    return result"
   ]
  },
  {
   "cell_type": "markdown",
   "metadata": {},
   "source": [
    "#### Create a Dataframe containing the counts of each word in a file"
   ]
  },
  {
   "cell_type": "code",
   "execution_count": 3,
   "metadata": {
    "collapsed": true
   },
   "outputs": [],
   "source": [
    "d = []\n",
    "\n",
    "for c in os.listdir(\"data_training\"):\n",
    "    directory = \"data_training/\" + c\n",
    "    for file in os.listdir(directory):\n",
    "        words = readFile(directory + \"/\" + file)\n",
    "        e = {x:words.count(x) for x in words}\n",
    "        e['__FileID__'] = file\n",
    "        e['__CLASS__'] = 'positive' if c=='pos' else 'negative'\n",
    "        d.append(e)"
   ]
  },
  {
   "cell_type": "markdown",
   "metadata": {},
   "source": [
    "Create a dataframe from d - make sure to fill all the nan values with zeros.\n",
    "\n",
    "References:\n",
    "\n",
    "https://pandas.pydata.org/pandas-docs/stable/generated/pandas.DataFrame.html\n",
    "https://pandas.pydata.org/pandas-docs/stable/generated/pandas.DataFrame.fillna.html\n"
   ]
  },
  {
   "cell_type": "code",
   "execution_count": 4,
   "metadata": {
    "collapsed": true
   },
   "outputs": [],
   "source": [
    "df = pd.DataFrame(d)\n",
    "df.fillna(0, inplace=True)"
   ]
  },
  {
   "cell_type": "markdown",
   "metadata": {},
   "source": [
    "#### Split data into training and validation set "
   ]
  },
  {
   "cell_type": "markdown",
   "metadata": {
    "collapsed": true
   },
   "source": [
    "* Sample 80% of your dataframe to be the training data\n",
    "\n",
    "* Let the remaining 20% be the validation data (you can filter out the indicies of the original dataframe that weren't selected for the training data)\n",
    "\n",
    "References:\n",
    "\n",
    "https://pandas.pydata.org/pandas-docs/stable/generated/pandas.DataFrame.sample.html\n",
    "https://pandas.pydata.org/pandas-docs/stable/generated/pandas.DataFrame.drop.html"
   ]
  },
  {
   "cell_type": "code",
   "execution_count": 5,
   "metadata": {
    "collapsed": true
   },
   "outputs": [],
   "source": [
    "train = df.sample(frac=0.8, random_state=42)\n",
    "test = df.drop(list(train.index))"
   ]
  },
  {
   "cell_type": "markdown",
   "metadata": {},
   "source": [
    "* Split the dataframe for both training and validation data into x and y dataframes - where y contains the labels and x contains the words\n",
    "\n",
    "References:\n",
    "\n",
    "https://pandas.pydata.org/pandas-docs/stable/generated/pandas.DataFrame.drop.html"
   ]
  },
  {
   "cell_type": "code",
   "execution_count": 6,
   "metadata": {
    "collapsed": true
   },
   "outputs": [],
   "source": [
    "y_train = train[['__CLASS__']]\n",
    "y_test = test[['__CLASS__']]\n",
    "X_train = train.drop(['__CLASS__', '__FileID__'], axis=1)\n",
    "X_test = test.drop(['__CLASS__', '__FileID__'], axis=1)"
   ]
  },
  {
   "cell_type": "markdown",
   "metadata": {},
   "source": [
    "# Logistic Regression"
   ]
  },
  {
   "cell_type": "markdown",
   "metadata": {},
   "source": [
    "#### Basic Logistic Regression\n",
    "* Use sklearn's linear_model.LogisticRegression() to create your model.\n",
    "* Fit the data and labels with your model.\n",
    "* Score your model with the same data and labels.\n",
    "\n",
    "References:\n",
    "\n",
    "http://scikit-learn.org/stable/modules/generated/sklearn.linear_model.LogisticRegression.html"
   ]
  },
  {
   "cell_type": "code",
   "execution_count": 7,
   "metadata": {},
   "outputs": [
    {
     "name": "stderr",
     "output_type": "stream",
     "text": [
      "C:\\Users\\Jun Seo\\Anaconda3\\lib\\site-packages\\sklearn\\utils\\validation.py:547: DataConversionWarning: A column-vector y was passed when a 1d array was expected. Please change the shape of y to (n_samples, ), for example using ravel().\n",
      "  y = column_or_1d(y, warn=True)\n"
     ]
    },
    {
     "name": "stdout",
     "output_type": "stream",
     "text": [
      "Train score: 1.0\n",
      "Test score: 0.796875\n"
     ]
    }
   ],
   "source": [
    "model = LogisticRegression()\n",
    "model.fit(X_train, y_train)\n",
    "print(\"Train score: \" + str(model.score(X_train, y_train)))\n",
    "print(\"Test score: \" + str(model.score(X_test, y_test)))"
   ]
  },
  {
   "cell_type": "markdown",
   "metadata": {},
   "source": [
    "#### Changing Parameters"
   ]
  },
  {
   "cell_type": "code",
   "execution_count": 8,
   "metadata": {},
   "outputs": [
    {
     "name": "stderr",
     "output_type": "stream",
     "text": [
      "C:\\Users\\Jun Seo\\Anaconda3\\lib\\site-packages\\sklearn\\utils\\validation.py:547: DataConversionWarning: A column-vector y was passed when a 1d array was expected. Please change the shape of y to (n_samples, ), for example using ravel().\n",
      "  y = column_or_1d(y, warn=True)\n"
     ]
    },
    {
     "name": "stdout",
     "output_type": "stream",
     "text": [
      "C=0.001, penalty=l1:     Train score = 0.490625,  Test score = 0.540625\n",
      "C=0.005, penalty=l1:     Train score = 0.639844,  Test score = 0.640625\n",
      "C=0.010, penalty=l1:     Train score = 0.692969,  Test score = 0.671875\n",
      "C=0.050, penalty=l1:     Train score = 0.844531,  Test score = 0.765625\n",
      "C=1.000, penalty=l1:     Train score = 1.000000,  Test score = 0.796875\n",
      "C=0.001, penalty=l2:     Train score = 0.878125,  Test score = 0.762500\n",
      "C=0.005, penalty=l2:     Train score = 0.977344,  Test score = 0.809375\n",
      "C=0.010, penalty=l2:     Train score = 0.989844,  Test score = 0.806250\n",
      "C=0.050, penalty=l2:     Train score = 1.000000,  Test score = 0.812500\n",
      "C=1.000, penalty=l2:     Train score = 1.000000,  Test score = 0.796875\n"
     ]
    }
   ],
   "source": [
    "for p in ['l1', 'l2']:\n",
    "    for c in [0.001, 0.005, 0.01, 0.05, 1]:\n",
    "        model2 = LogisticRegression(C=c, penalty=p)\n",
    "        model2.fit(X_train, y_train)\n",
    "        print(\"C=\" + str(format(c, '.3f')) + \", penalty=\" + str(p) + \":     Train score = \" + \n",
    "              str(format(model2.score(X_train, y_train), '.6f'))\n",
    "             + \",  Test score = \" + str(format(model2.score(X_test, y_test), '.6f')))"
   ]
  },
  {
   "cell_type": "markdown",
   "metadata": {},
   "source": [
    "#### Feature Selection\n",
    "* In the backward stepsize selection method, you can remove coefficients and the corresponding x columns, where the coefficient is more than a particular amount away from the mean - you can choose how far from the mean is reasonable.\n",
    "\n",
    "References:\n",
    "\n",
    "https://pandas.pydata.org/pandas-docs/stable/generated/pandas.DataFrame.html#\n",
    "https://pandas.pydata.org/pandas-docs/stable/generated/pandas.DataFrame.sample.html\n",
    "https://pandas.pydata.org/pandas-docs/stable/generated/pandas.DataFrame.drop.html\n",
    "http://scikit-learn.org/stable/modules/generated/sklearn.linear_model.LogisticRegression.html\n",
    "https://docs.scipy.org/doc/numpy-1.13.0/reference/generated/numpy.where.html\n",
    "https://docs.scipy.org/doc/numpy-1.13.0/reference/generated/numpy.std.html\n",
    "https://docs.scipy.org/doc/numpy-1.13.0/reference/generated/numpy.mean.html"
   ]
  },
  {
   "cell_type": "code",
   "execution_count": 9,
   "metadata": {},
   "outputs": [
    {
     "name": "stdout",
     "output_type": "stream",
     "text": [
      "C=0.0010, penalty=l1:     Train score = 0.490625,  Test score = 0.540625\n",
      "C=0.0050, penalty=l1:     Train score = 0.631250,  Test score = 0.600000\n",
      "C=0.0100, penalty=l1:     Train score = 0.683594,  Test score = 0.671875\n"
     ]
    },
    {
     "name": "stderr",
     "output_type": "stream",
     "text": [
      "C:\\Users\\Jun Seo\\Anaconda3\\lib\\site-packages\\sklearn\\utils\\validation.py:547: DataConversionWarning: A column-vector y was passed when a 1d array was expected. Please change the shape of y to (n_samples, ), for example using ravel().\n",
      "  y = column_or_1d(y, warn=True)\n"
     ]
    },
    {
     "name": "stdout",
     "output_type": "stream",
     "text": [
      "C=0.0500, penalty=l1:     Train score = 0.825781,  Test score = 0.787500\n",
      "C=0.1000, penalty=l1:     Train score = 0.894531,  Test score = 0.778125\n",
      "C=0.5000, penalty=l1:     Train score = 0.998437,  Test score = 0.768750\n",
      "C=1.0000, penalty=l1:     Train score = 1.000000,  Test score = 0.775000\n",
      "C=0.0010, penalty=l2:     Train score = 0.860938,  Test score = 0.768750\n",
      "C=0.0050, penalty=l2:     Train score = 0.950000,  Test score = 0.793750\n",
      "C=0.0100, penalty=l2:     Train score = 0.973437,  Test score = 0.796875\n",
      "C=0.0500, penalty=l2:     Train score = 0.999219,  Test score = 0.812500\n",
      "C=0.1000, penalty=l2:     Train score = 1.000000,  Test score = 0.818750\n",
      "C=0.5000, penalty=l2:     Train score = 1.000000,  Test score = 0.825000\n",
      "C=1.0000, penalty=l2:     Train score = 1.000000,  Test score = 0.821875\n"
     ]
    }
   ],
   "source": [
    "weights = (np.array(model.coef_[0])-np.mean(model.coef_[0]))/np.std(model.coef_[0])\n",
    "X_train_bss = X_train.iloc[:, np.where(np.abs(weights)>3)[0].tolist()]\n",
    "X_test_bss = X_test.iloc[:, np.where(np.abs(weights)>3)[0].tolist()]\n",
    "\n",
    "for p in ['l1', 'l2']:\n",
    "    for c in [0.001, 0.005, 0.01, 0.05, 0.1, 0.5, 1]:\n",
    "        model3 = LogisticRegression(C=c, penalty=p)\n",
    "        model3.fit(X_train_bss, y_train)\n",
    "        #print(\"C= \" + str(c) + \": Train score = \" + str(model3.score(X_train_bss, y_train))\n",
    "        #     + \", Test score = \" + str(model3.score(X_test_bss, y_test)))\n",
    "        print(\"C=\" + str(format(c, '.4f')) + \", penalty=\" + str(p) + \":     Train score = \" + \n",
    "                  str(format(model3.score(X_train_bss, y_train), '.6f'))\n",
    "                 + \",  Test score = \" + str(format(model3.score(X_test_bss, y_test), '.6f')))"
   ]
  },
  {
   "cell_type": "code",
   "execution_count": 10,
   "metadata": {},
   "outputs": [
    {
     "data": {
      "text/plain": [
       "(1280, 1011)"
      ]
     },
     "execution_count": 10,
     "metadata": {},
     "output_type": "execute_result"
    }
   ],
   "source": [
    "X_train_bss.shape"
   ]
  },
  {
   "cell_type": "markdown",
   "metadata": {},
   "source": [
    "How did you select which features to remove? Why did that reduce overfitting?"
   ]
  },
  {
   "cell_type": "markdown",
   "metadata": {},
   "source": [
    "Removed features based on weight. Based on different C values, c=0.05 and penalty='l1' performed well while decreasing the overfitting on the train set."
   ]
  },
  {
   "cell_type": "markdown",
   "metadata": {},
   "source": [
    "# Single Decision Tree"
   ]
  },
  {
   "cell_type": "markdown",
   "metadata": {},
   "source": [
    "#### Basic Decision Tree\n",
    "\n",
    "* Initialize your model as a decision tree with sklearn.\n",
    "* Fit the data and labels to the model.\n",
    "\n",
    "References:\n",
    "\n",
    "http://scikit-learn.org/stable/modules/generated/sklearn.tree.DecisionTreeClassifier.html\n"
   ]
  },
  {
   "cell_type": "code",
   "execution_count": 15,
   "metadata": {
    "collapsed": true
   },
   "outputs": [],
   "source": [
    "dtree = tree.DecisionTreeClassifier(max_depth=40)\n",
    "dtree = dtree.fit(X_train, y_train)"
   ]
  },
  {
   "cell_type": "code",
   "execution_count": 16,
   "metadata": {},
   "outputs": [
    {
     "name": "stdout",
     "output_type": "stream",
     "text": [
      "1.0\n",
      "0.63125\n"
     ]
    }
   ],
   "source": [
    "print(dtree.score(X_train, y_train))\n",
    "print(dtree.score(X_test, y_test))"
   ]
  },
  {
   "cell_type": "markdown",
   "metadata": {},
   "source": [
    "#### Changing Parameters\n",
    "* To test out which value is optimal for a particular parameter, you can either loop through various values or look into sklearn.model_selection.GridSearchCV\n",
    "\n",
    "References:\n",
    "\n",
    "\n",
    "http://scikit-learn.org/stable/modules/generated/sklearn.model_selection.GridSearchCV.html\n",
    "http://scikit-learn.org/stable/modules/generated/sklearn.tree.DecisionTreeClassifier.html"
   ]
  },
  {
   "cell_type": "markdown",
   "metadata": {},
   "source": [
    "How did you choose which parameters to change and what value to give to them? Feel free to show a plot."
   ]
  },
  {
   "cell_type": "code",
   "execution_count": 17,
   "metadata": {
    "collapsed": true
   },
   "outputs": [],
   "source": [
    "c, r = np.shape(y_train)\n",
    "y_train_reshape = np.reshape(y_train, (c,))\n",
    "\n",
    "params = {\"max_depth\": [10,20,30,40,50]}\n",
    "gscv = model_selection.GridSearchCV(dtree, params)\n",
    "gscv = gscv.fit(X_train.values, y_train_reshape.values.reshape((c,)))"
   ]
  },
  {
   "cell_type": "code",
   "execution_count": 18,
   "metadata": {},
   "outputs": [
    {
     "data": {
      "text/plain": [
       "{'mean_fit_time': array([ 6.59381159,  7.13364633,  6.38297025,  6.33252009,  7.24861908]),\n",
       " 'mean_score_time': array([ 0.0862515 ,  0.07942883,  0.07935596,  0.07526914,  0.08846656]),\n",
       " 'mean_test_score': array([ 0.6234375 ,  0.62578125,  0.6265625 ,  0.628125  ,  0.628125  ]),\n",
       " 'mean_train_score': array([ 0.94216849,  1.        ,  1.        ,  1.        ,  1.        ]),\n",
       " 'param_max_depth': masked_array(data = [10 20 30 40 50],\n",
       "              mask = [False False False False False],\n",
       "        fill_value = ?),\n",
       " 'params': [{'max_depth': 10},\n",
       "  {'max_depth': 20},\n",
       "  {'max_depth': 30},\n",
       "  {'max_depth': 40},\n",
       "  {'max_depth': 50}],\n",
       " 'rank_test_score': array([5, 4, 3, 1, 1]),\n",
       " 'split0_test_score': array([ 0.58411215,  0.60747664,  0.5817757 ,  0.59813084,  0.59813084]),\n",
       " 'split0_train_score': array([ 0.91784038,  1.        ,  1.        ,  1.        ,  1.        ]),\n",
       " 'split1_test_score': array([ 0.6056338 ,  0.5915493 ,  0.61502347,  0.61971831,  0.60328638]),\n",
       " 'split1_train_score': array([ 0.96604215,  1.        ,  1.        ,  1.        ,  1.        ]),\n",
       " 'split2_test_score': array([ 0.68075117,  0.67840376,  0.68309859,  0.66666667,  0.68309859]),\n",
       " 'split2_train_score': array([ 0.94262295,  1.        ,  1.        ,  1.        ,  1.        ]),\n",
       " 'std_fit_time': array([ 0.44146335,  0.3295914 ,  0.16080226,  0.60376174,  0.80793732]),\n",
       " 'std_score_time': array([ 0.00672959,  0.00728223,  0.00738919,  0.00385014,  0.00316092]),\n",
       " 'std_test_score': array([ 0.04142269,  0.03773108,  0.04217583,  0.0286133 ,  0.0388837 ]),\n",
       " 'std_train_score': array([ 0.01968092,  0.        ,  0.        ,  0.        ,  0.        ])}"
      ]
     },
     "execution_count": 18,
     "metadata": {},
     "output_type": "execute_result"
    }
   ],
   "source": [
    "gscv.cv_results_"
   ]
  },
  {
   "cell_type": "markdown",
   "metadata": {},
   "source": [
    "Why is a single decision tree so prone to overfitting?"
   ]
  },
  {
   "cell_type": "code",
   "execution_count": 19,
   "metadata": {
    "collapsed": true
   },
   "outputs": [],
   "source": [
    "x = [10,20,30,40,50]\n",
    "y = [tree.DecisionTreeClassifier(max_depth=k).fit(X_train,y_train_reshape).score(X_test,y_test) for k in x]"
   ]
  },
  {
   "cell_type": "code",
   "execution_count": 20,
   "metadata": {},
   "outputs": [
    {
     "data": {
      "image/png": "[encoded data removed]",
      "text/plain": [
       "<matplotlib.figure.Figure at 0x14b24a43438>"
      ]
     },
     "metadata": {},
     "output_type": "display_data"
    }
   ],
   "source": [
    "plt.scatter(x,y)\n",
    "plt.show()"
   ]
  },
  {
   "cell_type": "markdown",
   "metadata": {},
   "source": [
    "A single decision tree can make a lot of branches, and these branches are often only relevant for certain samples. These branches are basically useless because they're not generalized. Therefore, by decreasing the max depth in our classifier, we prevent the creation of these sample-specific branches and prevent our tree from overfitting."
   ]
  },
  {
   "cell_type": "markdown",
   "metadata": {},
   "source": [
    "# Random Forest Classifier"
   ]
  },
  {
   "cell_type": "markdown",
   "metadata": {},
   "source": [
    "#### Basic Random Forest\n",
    "\n",
    "* Use sklearn's ensemble.RandomForestClassifier() to create your model.\n",
    "* Fit the data and labels with your model.\n",
    "* Score your model with the same data and labels.\n",
    "\n",
    "References:\n",
    "\n",
    "http://scikit-learn.org/stable/modules/generated/sklearn.ensemble.RandomForestClassifier.html\n"
   ]
  },
  {
   "cell_type": "code",
   "execution_count": 21,
   "metadata": {},
   "outputs": [
    {
     "name": "stdout",
     "output_type": "stream",
     "text": [
      "Basic Random Forest Classifier score for training data is 0.9875\n",
      "Basic Random Forest Classifier score for test data is 0.659375\n"
     ]
    }
   ],
   "source": [
    "from sklearn.ensemble import RandomForestClassifier\n",
    "clf = RandomForestClassifier()\n",
    "clf.fit(X_train,y_train.values.ravel())\n",
    "print(\"Basic Random Forest Classifier score for training data is \" + str(clf.score(X_train, y_train.values.ravel())))\n",
    "print(\"Basic Random Forest Classifier score for test data is \" + str(clf.score(X_test, y_test.values.ravel())))   "
   ]
  },
  {
   "cell_type": "markdown",
   "metadata": {},
   "source": [
    "#### Changing Parameters"
   ]
  },
  {
   "cell_type": "code",
   "execution_count": 22,
   "metadata": {},
   "outputs": [
    {
     "name": "stdout",
     "output_type": "stream",
     "text": [
      "New Paramters Random Forest Classifier score for training data is 1.0\n",
      "New Parameters Random Forest Classifier score for test data is 0.7875\n"
     ]
    }
   ],
   "source": [
    "clf.set_params(n_estimators = 400, max_features=(int(clf.n_features_ * .25)))\n",
    "clf.fit(X_train,y_train.values.ravel())\n",
    "print(\"New Paramters Random Forest Classifier score for training data is \" + str(clf.score(X_train, y_train.values.ravel())))\n",
    "print(\"New Parameters Random Forest Classifier score for test data is \" + str(clf.score(X_test, y_test.values.ravel())))"
   ]
  },
  {
   "cell_type": "markdown",
   "metadata": {},
   "source": [
    "What parameters did you choose to change and why?"
   ]
  },
  {
   "cell_type": "code",
   "execution_count": null,
   "metadata": {
    "collapsed": true
   },
   "outputs": [],
   "source": [
    "'''We chose to change n_estimators because the more trees in a random forest the more accurate the classifier. \n",
    "We also decided to change the max_features parameter to prevent overfitting and bring down the training\n",
    "time for our random forest'''"
   ]
  },
  {
   "cell_type": "markdown",
   "metadata": {},
   "source": [
    "How does a random forest classifier prevent overfitting better than a single decision tree?"
   ]
  },
  {
   "cell_type": "code",
   "execution_count": null,
   "metadata": {
    "collapsed": true
   },
   "outputs": [],
   "source": [
    "'''This happens because overfitting often happens because of high amounts of variance. Random forest classifiers \n",
    "inherently have less variance because they average out the variance in single decision trees.\n",
    "'''"
   ]
  },
  {
   "cell_type": "code",
   "execution_count": null,
   "metadata": {
    "collapsed": true
   },
   "outputs": [],
   "source": []
  }
 ],
 "metadata": {
  "kernelspec": {
   "display_name": "Python 3",
   "language": "python",
   "name": "python3"
  },
  "language_info": {
   "codemirror_mode": {
    "name": "ipython",
    "version": 3
   },
   "file_extension": ".py",
   "mimetype": "text/x-python",
   "name": "python",
   "nbconvert_exporter": "python",
   "pygments_lexer": "ipython3",
   "version": "3.6.3"
  }
 },
 "nbformat": 4,
 "nbformat_minor": 1
}
